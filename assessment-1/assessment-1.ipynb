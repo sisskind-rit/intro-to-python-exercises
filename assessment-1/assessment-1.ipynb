{
 "cells": [
  {
   "cell_type": "markdown",
   "id": "48d69841-edfe-49d1-9249-e00bf98a4d82",
   "metadata": {},
   "source": [
    "# Welcome to Introduction to Python!\n",
    "\n",
    "## Week 1 Assessment\n",
    "At this point, you have already downloaded and installed Python and created a branch of this week's assessment to your local computer. Great work!\n",
    "\n",
    "In this Jupyter Notebook, you will write and execute your first line of Python code. You will insert text (don't forget the quotation marks!) to print the text out in the next cell. You can use the standard \"Hello World\" or anything of your choosing.\n",
    "\n",
    "Once you have updated below, run that cell by selecting the \"play\" button. The text should print out below. When you are done, save your Jupyter notebook and create a pull request in GitHub to update your branch. Your final result should show you successful ran your line of code, so save it *after* you execute that cell!"
   ]
  },
  {
   "cell_type": "code",
   "execution_count": 1,
   "id": "a9558743-3c79-4bd8-b80f-6782b7a6d174",
   "metadata": {},
   "outputs": [
    {
     "name": "stdout",
     "output_type": "stream",
     "text": [
      "Hello World\n"
     ]
    }
   ],
   "source": [
    "print(\"Hello World\")"
   ]
  }
 ],
 "metadata": {
  "kernelspec": {
   "display_name": "Python 3 (ipykernel)",
   "language": "python",
   "name": "python3"
  },
  "language_info": {
   "codemirror_mode": {
    "name": "ipython",
    "version": 3
   },
   "file_extension": ".py",
   "mimetype": "text/x-python",
   "name": "python",
   "nbconvert_exporter": "python",
   "pygments_lexer": "ipython3",
   "version": "3.10.3"
  }
 },
 "nbformat": 4,
 "nbformat_minor": 5
}
